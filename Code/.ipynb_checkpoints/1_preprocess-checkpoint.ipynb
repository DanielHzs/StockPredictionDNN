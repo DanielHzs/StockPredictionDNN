{
 "cells": [
  {
   "cell_type": "code",
   "execution_count": 28,
   "id": "943c56a1",
   "metadata": {
    "ExecuteTime": {
     "end_time": "2025-05-06T11:39:12.679127Z",
     "start_time": "2025-05-06T11:38:59.419561Z"
    }
   },
   "outputs": [],
   "source": [
    "import os\n",
    "import shutil\n",
    "import pandas as pd\n",
    "from scipy.stats import norm\n",
    "\n",
    "# Paths\n",
    "data_dir = os.environ.get('DATA_DIR',\n",
    "                          '/gpfs/home/zh283/StockPredictionDNN/Data')\n",
    "raw_csv = os.path.join(data_dir, 'jkpfactor.csv.zip')\n",
    "factor_xlsx = os.path.join(data_dir, 'factors_list.xlsx')\n",
    "parquet_dir = os.path.join(data_dir, 'parquet')\n",
    "\n",
    "# Load characteristic names\n",
    "char_df = pd.read_excel(factor_xlsx)\n",
    "char_names = char_df.loc[char_df['abr_jkp'].notna(), 'abr_jkp'].tolist()\n",
    "\n",
    "# Column definitions\n",
    "base_cols = [\n",
    "    'me', 'size_grp', 'permno', 'eom', 'crsp_exchcd', 'ret_exc_lead1m',\n",
    "    'ret_exc', 'ret'\n",
    "]\n",
    "weight_cols = ['w_ew', 'w_vw']\n",
    "label_cols = ['ret_pct', 'ret_z', 'ret_invn']\n",
    "\n",
    "# 1) Read and filter raw data\n",
    "df = (pd.read_csv(raw_csv, parse_dates=[\n",
    "    'eom'\n",
    "]).dropna(subset=['ret', 'ret_exc', 'ret_exc_lead1m']).query(\n",
    "    'crsp_shrcd in [10,11] and crsp_exchcd in [1,2,3]'))\n",
    "# Cast types and select columns\n",
    "df['eom'] = (df['eom'].dt.strftime('%Y%m%d').astype(int))\n",
    "df[['permno', 'crsp_exchcd']] = (df[['permno', 'crsp_exchcd']].astype(int))\n",
    "df = df[base_cols + char_names]\n",
    "df = df.sort_values(['eom', 'permno']).reset_index(drop=True)\n",
    "\n",
    "# 2) Impute raw characteristics by monthly median\n",
    "grp_raw = df.groupby('eom')[char_names]\n",
    "df[char_names] = df[char_names].fillna(grp_raw.transform('median'))\n",
    "df = df.dropna(subset=char_names).reset_index(drop=True)\n",
    "\n",
    "# 3) Compute cross-sectional weights and return stats\n",
    "grp = df.groupby('eom')\n",
    "df['w_ew'] = 10000.0 / grp['permno'].transform('count')\n",
    "df['w_vw'] = 10000.0 * df['me'] / grp['me'].transform('sum')\n",
    "ret_series = grp['ret_exc_lead1m']\n",
    "ret_mean = ret_series.transform('mean')\n",
    "ret_std = ret_series.transform('std')\n",
    "\n",
    "df['ret_pct'] = (ret_series.rank(\n",
    "    method='average').div(ret_series.transform('count') + 1))\n",
    "# fixed inverse‐normal and z‐score\n",
    "df['ret_z'] = (df['ret_exc_lead1m'] - ret_mean) / ret_std\n",
    "df['ret_invn'] = norm.ppf(df['ret_pct'])\n",
    "\n",
    "# 4) Compute characteristic transforms without suffix\n",
    "grp_char = grp[char_names]\n",
    "df_pct = grp_char.rank(method='average').div(grp_char.transform('count') + 1)\n",
    "df_z = (df[char_names] - grp_char.transform('mean')).div(\n",
    "    grp_char.transform('std'))\n",
    "df_invn = df_pct.apply(norm.ppf)\n",
    "\n",
    "# 2) Prepare static slice\n",
    "df['year'] = df['eom'] // 10000\n",
    "meta_cols = base_cols + weight_cols + label_cols + ['year']\n",
    "df_static = df[meta_cols]\n",
    "\n",
    "# 3) Build full variant DataFrames (capture them in a dict)\n",
    "variant_dfs = {\n",
    "    'raw': pd.concat([df_static, df[char_names]], axis=1),\n",
    "    'pct': pd.concat([df_static, df_pct], axis=1),\n",
    "    'z': pd.concat([df_static, df_z], axis=1),\n",
    "    'invn': pd.concat([df_static, df_invn], axis=1),\n",
    "}\n",
    "\n",
    "# 4) Write each variant with per‑year partitioning\n",
    "for variant, vdf in variant_dfs.items():\n",
    "    out_dir = os.path.join(parquet_dir, variant)\n",
    "    if os.path.exists(out_dir):\n",
    "        shutil.rmtree(out_dir)\n",
    "    # this will create year=XXXX folders automatically\n",
    "    vdf.to_parquet(out_dir,\n",
    "                   partition_cols=['year'],\n",
    "                   engine='pyarrow',\n",
    "                   index=False)"
   ]
  }
 ],
 "metadata": {
  "kernelspec": {
   "display_name": "tf_env",
   "language": "python",
   "name": "tf_env"
  },
  "language_info": {
   "codemirror_mode": {
    "name": "ipython",
    "version": 3
   },
   "file_extension": ".py",
   "mimetype": "text/x-python",
   "name": "python",
   "nbconvert_exporter": "python",
   "pygments_lexer": "ipython3",
   "version": "3.11.9"
  },
  "varInspector": {
   "cols": {
    "lenName": 16,
    "lenType": 16,
    "lenVar": 40
   },
   "kernels_config": {
    "python": {
     "delete_cmd_postfix": "",
     "delete_cmd_prefix": "del ",
     "library": "var_list.py",
     "varRefreshCmd": "print(var_dic_list())"
    },
    "r": {
     "delete_cmd_postfix": ") ",
     "delete_cmd_prefix": "rm(",
     "library": "var_list.r",
     "varRefreshCmd": "cat(var_dic_list()) "
    }
   },
   "types_to_exclude": [
    "module",
    "function",
    "builtin_function_or_method",
    "instance",
    "_Feature"
   ],
   "window_display": false
  }
 },
 "nbformat": 4,
 "nbformat_minor": 5
}
